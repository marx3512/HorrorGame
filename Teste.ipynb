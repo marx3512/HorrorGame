{
  "nbformat": 4,
  "nbformat_minor": 0,
  "metadata": {
    "colab": {
      "name": "Untitled1.ipynb",
      "provenance": [],
      "authorship_tag": "ABX9TyNi98egTeif2q0bT7mVicYW",
      "include_colab_link": true
    },
    "kernelspec": {
      "name": "python3",
      "display_name": "Python 3"
    },
    "language_info": {
      "name": "python"
    }
  },
  "cells": [
    {
      "cell_type": "markdown",
      "metadata": {
        "id": "view-in-github",
        "colab_type": "text"
      },
      "source": [
        "<a href=\"https://colab.research.google.com/github/marx3512/HorrorGame/blob/main/Teste.ipynb\" target=\"_parent\"><img src=\"https://colab.research.google.com/assets/colab-badge.svg\" alt=\"Open In Colab\"/></a>"
      ]
    },
    {
      "cell_type": "markdown",
      "source": [
        "<h1>Problema</h1>"
      ],
      "metadata": {
        "id": "yn09eGgc95jI"
      }
    },
    {
      "cell_type": "markdown",
      "source": [
        "# Entrada\n",
        "\n",
        "$ P(x)= a + bx + cx^2 + dx^3 $"
      ],
      "metadata": {
        "id": "Hzx9PZd49afK"
      }
    },
    {
      "cell_type": "markdown",
      "source": [
        "# Saída\n",
        "\n",
        "$ P´(x) = b + 2cx + 3dx $"
      ],
      "metadata": {
        "id": "GxzMlFom9z8g"
      }
    },
    {
      "cell_type": "markdown",
      "source": [
        "# Representação\n",
        "\n"
      ],
      "metadata": {
        "id": "okMuhAkd_Hx_"
      }
    },
    {
      "cell_type": "markdown",
      "source": [
        "Inicialmente, iremos estabelecer o esquema de representação de um polinomio cubico.\n",
        "Para isto, armazenaremos seus coeficientes"
      ],
      "metadata": {
        "id": "EGuaI-uC_yUH"
      }
    },
    {
      "cell_type": "markdown",
      "source": [
        "## Avaliação\n",
        "\n"
      ],
      "metadata": {
        "id": "tj7csvWcBdIQ"
      }
    },
    {
      "cell_type": "markdown",
      "source": [
        "A função abaixo avalia o valor de um polinomio cubico $P$ em um ponto $x$"
      ],
      "metadata": {
        "id": "xEVbRFFnBihH"
      }
    },
    {
      "cell_type": "code",
      "source": [
        "def avalia(a,b,c,d,x):\n",
        "  \"\"\"\n",
        "  Avalia um polinomio cubico P em um ponto x.\n",
        "\n",
        "  Entrada:\n",
        "    a,b,c,d (float): Coeficientes do polinomio P(x) = a + bx + cx² + dx³\n",
        "    x (float): Ponto no qual P sera avaliado\n",
        "  Saida:\n",
        "    res (float): Valor de P(x)\n",
        "  \"\"\"\n",
        "  return a + b*2 + c*x**2 + d*x**3 "
      ],
      "metadata": {
        "id": "N8GjrI96Bs2s"
      },
      "execution_count": 10,
      "outputs": []
    },
    {
      "cell_type": "code",
      "source": [
        "avalia(3,0,5,-10,1.0)"
      ],
      "metadata": {
        "colab": {
          "base_uri": "https://localhost:8080/"
        },
        "id": "5Nr_yrnsDKMQ",
        "outputId": "429abebf-ebf0-468f-a111-1e29cb1ad61e"
      },
      "execution_count": 11,
      "outputs": [
        {
          "output_type": "execute_result",
          "data": {
            "text/plain": [
              "-2.0"
            ]
          },
          "metadata": {},
          "execution_count": 11
        }
      ]
    },
    {
      "cell_type": "markdown",
      "source": [
        "## Derivada"
      ],
      "metadata": {
        "id": "K7JPjQG4Edeo"
      }
    },
    {
      "cell_type": "code",
      "source": [
        "def derivada(a,b,c,d):\n",
        "  A = b\n",
        "  B = 2*c\n",
        "  C = 3*d\n",
        "  return A,B,C"
      ],
      "metadata": {
        "id": "MDoVULI-EhlW"
      },
      "execution_count": 13,
      "outputs": []
    },
    {
      "cell_type": "code",
      "source": [
        "derivada(3,0,5,-10)"
      ],
      "metadata": {
        "colab": {
          "base_uri": "https://localhost:8080/"
        },
        "id": "mx7fiHAwGM-I",
        "outputId": "47ae5237-8639-4e8c-faa7-bd3b601032b6"
      },
      "execution_count": 14,
      "outputs": [
        {
          "output_type": "execute_result",
          "data": {
            "text/plain": [
              "(0, 10, -30)"
            ]
          },
          "metadata": {},
          "execution_count": 14
        }
      ]
    }
  ]
}